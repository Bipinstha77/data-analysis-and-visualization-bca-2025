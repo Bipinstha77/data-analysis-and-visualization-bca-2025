{
 "cells": [
  {
   "cell_type": "markdown",
   "id": "e4ac1b0e",
   "metadata": {},
   "source": [
    "### Numpy\n",
    "\n",
    "NumPy (Numerical Python) is the foundational package for numerical computing in Python.\n",
    "It provides:\n",
    "- Powerful N-dimensional array object (ndarray)\n",
    "- Broadcasting functions\n",
    "- Tools for integrating C/C++/Fortran code\n",
    "- Useful linear algebra, Fourier transform, and random number capabilities\n",
    "\n",
    "To install NumPy:\n",
    "```\n",
    "pip install numpy\n",
    "```"
   ]
  },
  {
   "cell_type": "code",
   "execution_count": 1,
   "id": "9b8869a5",
   "metadata": {},
   "outputs": [],
   "source": [
    "import numpy as np"
   ]
  },
  {
   "cell_type": "markdown",
   "id": "255e0508",
   "metadata": {},
   "source": [
    "### Creating NumPy Arrays"
   ]
  },
  {
   "cell_type": "code",
   "execution_count": 3,
   "id": "697ad9fa",
   "metadata": {},
   "outputs": [
    {
     "name": "stdout",
     "output_type": "stream",
     "text": [
      "1D array: [1 2 3 4]\n",
      "2D array:\n",
      " [[1 2 3]\n",
      " [4 5 6]]\n",
      "Array of zeros:\n",
      " [[0. 0. 0.]\n",
      " [0. 0. 0.]]\n",
      "Identity matrix:\n",
      " [[1. 0. 0.]\n",
      " [0. 1. 0.]\n",
      " [0. 0. 1.]]\n",
      "arange: [0 2 4 6 8]\n",
      "linspace: [0.   0.25 0.5  0.75 1.  ]\n"
     ]
    }
   ],
   "source": [
    "# From a Python list\n",
    "array1 = np.array([1, 2, 3, 4])\n",
    "print(\"1D array:\", array1)\n",
    "\n",
    "# From a list of lists\n",
    "array2 = np.array([[1, 2, 3], [4, 5, 6]])\n",
    "print(\"2D array:\\n\", array2)\n",
    "\n",
    "# Create arrays with default values\n",
    "zeros = np.zeros((2, 3))       # 2x3 array of zeros\n",
    "ones = np.ones((3, 2))         # 3x2 array of ones\n",
    "full = np.full((2, 2), 7)      # 2x2 array filled with 7\n",
    "identity = np.eye(3)           # 3x3 Identity matrix\n",
    "print(\"Array of zeros:\\n\", zeros)\n",
    "print(\"Identity matrix:\\n\", identity)\n",
    "\n",
    "# Create sequences\n",
    "arange = np.arange(0, 10, 2)   # From 0 to 10 with step 2\n",
    "linspace = np.linspace(0, 1, 5) # 5 values from 0 to 1\n",
    "print(\"arange:\", arange)\n",
    "print(\"linspace:\", linspace)"
   ]
  },
  {
   "cell_type": "code",
   "execution_count": null,
   "id": "64472d02",
   "metadata": {},
   "outputs": [
    {
     "name": "stdout",
     "output_type": "stream",
     "text": [
      "arange: [0 2 4 6 8]\n",
      "linspace: [0.   0.25 0.5  0.75 1.  ]\n"
     ]
    }
   ],
   "source": [
    "# Create sequences\n",
    "\n",
    "arange = np.arange(0, 10, 2)   # From 0 to 10 with step 2\n",
    "linspace = np.linspace(0, 1, 5) # 5 values from 0 to 1\n",
    "print(\"arange:\", arange)    \n",
    "print(\"linspace:\", linspace)"
   ]
  },
  {
   "cell_type": "markdown",
   "id": "6183a515",
   "metadata": {},
   "source": [
    "**Linspace and arange**\n",
    "\n",
    "- linspace\n",
    "  - Purpose: Creates a specific number of evenly spaced values between a start and stop value   (both included by default).\n",
    "  \n",
    "   Syntax:\n",
    "   ```\n",
    "   np.linspace(start, stop, num=50)\n",
    "   ```\n",
    "\n",
    "\n",
    "- arange\n",
    "  - Purpose: Creates numbers at a regular step between start and stop (stop is not included).\n",
    "    \n",
    "    Syntax\n",
    "    ```\n",
    "    np.arange(start, stop, step)\n",
    "    ```"
   ]
  },
  {
   "cell_type": "markdown",
   "id": "71917520",
   "metadata": {},
   "source": [
    "### Array Properties"
   ]
  },
  {
   "cell_type": "code",
   "execution_count": 9,
   "id": "bf30bfcc",
   "metadata": {},
   "outputs": [
    {
     "name": "stdout",
     "output_type": "stream",
     "text": [
      "Shape: (2, 3)\n",
      "Data type: int64\n",
      "Size (number of elements): 6\n",
      "Dimensions (ndim): 2\n"
     ]
    }
   ],
   "source": [
    "\n",
    "print(\"Shape:\", array2.shape)\n",
    "print(\"Data type:\", array2.dtype)\n",
    "print(\"Size (number of elements):\", array2.size)\n",
    "print(\"Dimensions (ndim):\", array2.ndim)"
   ]
  },
  {
   "cell_type": "markdown",
   "id": "6dd53d8d",
   "metadata": {},
   "source": [
    "### Indexing and slicing"
   ]
  },
  {
   "cell_type": "code",
   "execution_count": 10,
   "id": "571e9093",
   "metadata": {},
   "outputs": [
    {
     "name": "stdout",
     "output_type": "stream",
     "text": [
      "Element at row 1, column 2: 60\n",
      "First row: [10 20 30]\n",
      "All rows, column 1: [20 50 80]\n",
      "Subarray:\n",
      " [[20 30]\n",
      " [50 60]]\n"
     ]
    }
   ],
   "source": [
    "arr = np.array([[10, 20, 30], [40, 50, 60], [70, 80, 90]])\n",
    "print(\"Element at row 1, column 2:\", arr[1, 2])\n",
    "print(\"First row:\", arr[0])\n",
    "print(\"All rows, column 1:\", arr[:, 1])\n",
    "print(\"Subarray:\\n\", arr[0:2, 1:3])\n"
   ]
  },
  {
   "cell_type": "markdown",
   "id": "9ff9dbc2",
   "metadata": {},
   "source": [
    "### Operations"
   ]
  },
  {
   "cell_type": "code",
   "execution_count": null,
   "id": "710e5999",
   "metadata": {},
   "outputs": [
    {
     "name": "stdout",
     "output_type": "stream",
     "text": [
      "Addition: [5 7 9]\n",
      "Multiplication: [ 4 10 18]\n",
      "Exponentiation: [1 4 9]\n",
      "Matrix product:\n",
      " [[ 4  4]\n",
      " [10  8]]\n",
      "Sum: 10\n",
      "Max: 4\n",
      "Mean: 2.5\n",
      "Standard Deviation: 1.118033988749895\n",
      "Column-wise sum: [4 6]\n",
      "Row-wise mean: [1.5 3.5]\n"
     ]
    }
   ],
   "source": [
    "# Element-wise operations\n",
    "a = np.array([1, 2, 3])\n",
    "b = np.array([4, 5, 6])\n",
    "print(\"Addition:\", a + b)\n",
    "print(\"Multiplication:\", a * b)\n",
    "print(\"Exponentiation:\", a ** 2)\n",
    "\n",
    "# Matrix multiplication\n",
    "A = np.array([\n",
    "    [1, 2], \n",
    "    [3, 4]\n",
    "])\n",
    "B = np.array([[2, 0], [1, 2]])\n",
    "print(\"Matrix product:\\n\", A @ B)\n",
    "\n",
    "# Aggregations\n",
    "print(\"Sum:\", A.sum())\n",
    "print(\"Max:\", A.max())\n",
    "print(\"Mean:\", A.mean())\n",
    "print(\"Standard Deviation:\", A.std())\n",
    "\n",
    "# Axis-specific aggregations\n",
    "print(\"Column-wise sum:\", A.sum(axis=0))\n",
    "print(\"Row-wise mean:\", A.mean(axis=1))"
   ]
  },
  {
   "cell_type": "markdown",
   "id": "5d340ce0",
   "metadata": {},
   "source": [
    "### Reshaping and Flattening"
   ]
  },
  {
   "cell_type": "code",
   "execution_count": 13,
   "id": "9cb584d9",
   "metadata": {},
   "outputs": [
    {
     "name": "stdout",
     "output_type": "stream",
     "text": [
      "Original shape: (2, 3)\n",
      "Reshaped to 3x2:\n",
      " [[1 2]\n",
      " [3 4]\n",
      " [5 6]]\n",
      "Flattened array: [1 2 3 4 5 6]\n"
     ]
    }
   ],
   "source": [
    "c = np.array([[1, 2, 3], [4, 5, 6]])\n",
    "print(\"Original shape:\", c.shape)\n",
    "\n",
    "reshaped = c.reshape((3, 2))\n",
    "print(\"Reshaped to 3x2:\\n\", reshaped)\n",
    "\n",
    "flattened = c.flatten()\n",
    "print(\"Flattened array:\", flattened)\n",
    "\n"
   ]
  },
  {
   "cell_type": "markdown",
   "id": "86defbb8",
   "metadata": {},
   "source": [
    "### Stacking Arrays"
   ]
  },
  {
   "cell_type": "code",
   "execution_count": 16,
   "id": "1f87bdc2",
   "metadata": {},
   "outputs": [
    {
     "name": "stdout",
     "output_type": "stream",
     "text": [
      "Vertical stack:\n",
      " [[1 2]\n",
      " [3 4]\n",
      " [5 6]]\n",
      "Horizontal stack:\n",
      " [[1 2 1 2]\n",
      " [3 4 3 4]]\n"
     ]
    }
   ],
   "source": [
    "a = np.array([[1, 2], [3, 4]])\n",
    "b = np.array([[5, 6]])\n",
    "\n",
    "print(\"Vertical stack:\\n\", np.vstack((a, b)))\n",
    "print(\"Horizontal stack:\\n\", np.hstack((a, a)))\n"
   ]
  },
  {
   "cell_type": "markdown",
   "id": "1e1aa994",
   "metadata": {},
   "source": [
    "### Boolean Indexing and Filtering"
   ]
  },
  {
   "cell_type": "code",
   "execution_count": 18,
   "id": "0a2f9770",
   "metadata": {},
   "outputs": [
    {
     "name": "stdout",
     "output_type": "stream",
     "text": [
      "Condition: [False False False  True  True]\n",
      "Filtered result: [40 50]\n"
     ]
    }
   ],
   "source": [
    "data = np.array([10, 20, 30, 40, 50])\n",
    "condition = data > 30\n",
    "print(\"Condition:\", condition)\n",
    "print(\"Filtered result:\", data[condition])\n"
   ]
  },
  {
   "cell_type": "markdown",
   "id": "afc3bd23",
   "metadata": {},
   "source": [
    "### Random Numbers"
   ]
  },
  {
   "cell_type": "code",
   "execution_count": 19,
   "id": "47e79ca2",
   "metadata": {},
   "outputs": [
    {
     "name": "stdout",
     "output_type": "stream",
     "text": [
      "Random uniform:\n",
      " [[0.90992184 0.09911703]\n",
      " [0.52177422 0.29663968]\n",
      " [0.61843136 0.81180321]]\n",
      "Random integers:\n",
      " [[7 1 5]\n",
      " [7 5 4]]\n"
     ]
    }
   ],
   "source": [
    "\n",
    "rand_uniform = np.random.rand(3, 2)  # Uniform [0, 1)\n",
    "rand_normal = np.random.randn(3, 2)  # Standard normal\n",
    "rand_int = np.random.randint(0, 10, (2, 3))  # Random ints\n",
    "print(\"Random uniform:\\n\", rand_uniform)\n",
    "print(\"Random integers:\\n\", rand_int)\n"
   ]
  },
  {
   "cell_type": "markdown",
   "id": "a558ce3a",
   "metadata": {},
   "source": [
    "### Useful NumPy Functions"
   ]
  },
  {
   "cell_type": "code",
   "execution_count": 20,
   "id": "6f7bc363",
   "metadata": {},
   "outputs": [
    {
     "name": "stdout",
     "output_type": "stream",
     "text": [
      "Sorted array: [1 1 2 3 4 5 9]\n",
      "Unique values: [1 2 3 4 5 9]\n"
     ]
    }
   ],
   "source": [
    "arr = np.array([3, 1, 4, 1, 5, 9, 2])\n",
    "sorted_arr = np.sort(arr)\n",
    "unique_vals = np.unique(arr)\n",
    "\n",
    "print(\"Sorted array:\", sorted_arr)\n",
    "print(\"Unique values:\", unique_vals)\n"
   ]
  },
  {
   "cell_type": "markdown",
   "id": "1304c7bf",
   "metadata": {},
   "source": [
    "### Broadcasting\n",
    "Broadcasting means NumPy automatically expands smaller arrays so they can work together with bigger arrays in operations — without you manually changing their shape.\n",
    "\n",
    "It lets you do math on arrays of different shapes without writing loops."
   ]
  },
  {
   "cell_type": "code",
   "execution_count": 21,
   "id": "45d51e98",
   "metadata": {},
   "outputs": [
    {
     "name": "stdout",
     "output_type": "stream",
     "text": [
      "Broadcasted addition:\n",
      " [[11 21 31]\n",
      " [12 22 32]\n",
      " [13 23 33]]\n"
     ]
    }
   ],
   "source": [
    "arr = np.array([[1], [2], [3]])\n",
    "vector = np.array([10, 20, 30])\n",
    "print(\"Broadcasted addition:\\n\", arr + vector)\n"
   ]
  }
 ],
 "metadata": {
  "kernelspec": {
   "display_name": "venv",
   "language": "python",
   "name": "python3"
  },
  "language_info": {
   "codemirror_mode": {
    "name": "ipython",
    "version": 3
   },
   "file_extension": ".py",
   "mimetype": "text/x-python",
   "name": "python",
   "nbconvert_exporter": "python",
   "pygments_lexer": "ipython3",
   "version": "3.9.6"
  }
 },
 "nbformat": 4,
 "nbformat_minor": 5
}
